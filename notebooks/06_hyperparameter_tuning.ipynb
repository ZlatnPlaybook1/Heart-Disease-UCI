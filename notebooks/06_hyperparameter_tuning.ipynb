{
 "cells": [
  {
   "cell_type": "markdown",
   "id": "5a57192a",
   "metadata": {},
   "source": [
    "###  Hyperparameter Tuning for the models"
   ]
  },
  {
   "cell_type": "code",
   "execution_count": 98,
   "id": "74583646",
   "metadata": {},
   "outputs": [],
   "source": [
    "import pandas as pd \n",
    "import numpy as np \n",
    "import matplotlib.pyplot as plt \n",
    "import seaborn as sns"
   ]
  },
  {
   "cell_type": "code",
   "execution_count": 99,
   "id": "4df5fc87",
   "metadata": {},
   "outputs": [
    {
     "data": {
      "text/html": [
       "<div>\n",
       "<style scoped>\n",
       "    .dataframe tbody tr th:only-of-type {\n",
       "        vertical-align: middle;\n",
       "    }\n",
       "\n",
       "    .dataframe tbody tr th {\n",
       "        vertical-align: top;\n",
       "    }\n",
       "\n",
       "    .dataframe thead th {\n",
       "        text-align: right;\n",
       "    }\n",
       "</style>\n",
       "<table border=\"1\" class=\"dataframe\">\n",
       "  <thead>\n",
       "    <tr style=\"text-align: right;\">\n",
       "      <th></th>\n",
       "      <th>age</th>\n",
       "      <th>sex</th>\n",
       "      <th>cp</th>\n",
       "      <th>trestbps</th>\n",
       "      <th>chol</th>\n",
       "      <th>fbs</th>\n",
       "      <th>restecg</th>\n",
       "      <th>thalach</th>\n",
       "      <th>exang</th>\n",
       "      <th>oldpeak</th>\n",
       "      <th>slope</th>\n",
       "      <th>ca</th>\n",
       "      <th>thal</th>\n",
       "      <th>target</th>\n",
       "    </tr>\n",
       "  </thead>\n",
       "  <tbody>\n",
       "    <tr>\n",
       "      <th>0</th>\n",
       "      <td>63</td>\n",
       "      <td>1</td>\n",
       "      <td>3</td>\n",
       "      <td>145</td>\n",
       "      <td>233</td>\n",
       "      <td>1</td>\n",
       "      <td>0</td>\n",
       "      <td>150</td>\n",
       "      <td>0</td>\n",
       "      <td>2.3</td>\n",
       "      <td>0</td>\n",
       "      <td>0</td>\n",
       "      <td>1</td>\n",
       "      <td>1</td>\n",
       "    </tr>\n",
       "    <tr>\n",
       "      <th>1</th>\n",
       "      <td>37</td>\n",
       "      <td>1</td>\n",
       "      <td>2</td>\n",
       "      <td>130</td>\n",
       "      <td>250</td>\n",
       "      <td>0</td>\n",
       "      <td>1</td>\n",
       "      <td>187</td>\n",
       "      <td>0</td>\n",
       "      <td>3.5</td>\n",
       "      <td>0</td>\n",
       "      <td>0</td>\n",
       "      <td>2</td>\n",
       "      <td>1</td>\n",
       "    </tr>\n",
       "    <tr>\n",
       "      <th>2</th>\n",
       "      <td>41</td>\n",
       "      <td>0</td>\n",
       "      <td>1</td>\n",
       "      <td>130</td>\n",
       "      <td>204</td>\n",
       "      <td>0</td>\n",
       "      <td>0</td>\n",
       "      <td>172</td>\n",
       "      <td>0</td>\n",
       "      <td>1.4</td>\n",
       "      <td>2</td>\n",
       "      <td>0</td>\n",
       "      <td>2</td>\n",
       "      <td>1</td>\n",
       "    </tr>\n",
       "    <tr>\n",
       "      <th>3</th>\n",
       "      <td>56</td>\n",
       "      <td>1</td>\n",
       "      <td>1</td>\n",
       "      <td>120</td>\n",
       "      <td>236</td>\n",
       "      <td>0</td>\n",
       "      <td>1</td>\n",
       "      <td>178</td>\n",
       "      <td>0</td>\n",
       "      <td>0.8</td>\n",
       "      <td>2</td>\n",
       "      <td>0</td>\n",
       "      <td>2</td>\n",
       "      <td>1</td>\n",
       "    </tr>\n",
       "    <tr>\n",
       "      <th>4</th>\n",
       "      <td>57</td>\n",
       "      <td>0</td>\n",
       "      <td>0</td>\n",
       "      <td>120</td>\n",
       "      <td>354</td>\n",
       "      <td>0</td>\n",
       "      <td>1</td>\n",
       "      <td>163</td>\n",
       "      <td>1</td>\n",
       "      <td>0.6</td>\n",
       "      <td>2</td>\n",
       "      <td>0</td>\n",
       "      <td>2</td>\n",
       "      <td>1</td>\n",
       "    </tr>\n",
       "    <tr>\n",
       "      <th>...</th>\n",
       "      <td>...</td>\n",
       "      <td>...</td>\n",
       "      <td>...</td>\n",
       "      <td>...</td>\n",
       "      <td>...</td>\n",
       "      <td>...</td>\n",
       "      <td>...</td>\n",
       "      <td>...</td>\n",
       "      <td>...</td>\n",
       "      <td>...</td>\n",
       "      <td>...</td>\n",
       "      <td>...</td>\n",
       "      <td>...</td>\n",
       "      <td>...</td>\n",
       "    </tr>\n",
       "    <tr>\n",
       "      <th>298</th>\n",
       "      <td>57</td>\n",
       "      <td>0</td>\n",
       "      <td>0</td>\n",
       "      <td>140</td>\n",
       "      <td>241</td>\n",
       "      <td>0</td>\n",
       "      <td>1</td>\n",
       "      <td>123</td>\n",
       "      <td>1</td>\n",
       "      <td>0.2</td>\n",
       "      <td>1</td>\n",
       "      <td>0</td>\n",
       "      <td>3</td>\n",
       "      <td>0</td>\n",
       "    </tr>\n",
       "    <tr>\n",
       "      <th>299</th>\n",
       "      <td>45</td>\n",
       "      <td>1</td>\n",
       "      <td>3</td>\n",
       "      <td>110</td>\n",
       "      <td>264</td>\n",
       "      <td>0</td>\n",
       "      <td>1</td>\n",
       "      <td>132</td>\n",
       "      <td>0</td>\n",
       "      <td>1.2</td>\n",
       "      <td>1</td>\n",
       "      <td>0</td>\n",
       "      <td>3</td>\n",
       "      <td>0</td>\n",
       "    </tr>\n",
       "    <tr>\n",
       "      <th>300</th>\n",
       "      <td>68</td>\n",
       "      <td>1</td>\n",
       "      <td>0</td>\n",
       "      <td>144</td>\n",
       "      <td>193</td>\n",
       "      <td>1</td>\n",
       "      <td>1</td>\n",
       "      <td>141</td>\n",
       "      <td>0</td>\n",
       "      <td>3.4</td>\n",
       "      <td>1</td>\n",
       "      <td>2</td>\n",
       "      <td>3</td>\n",
       "      <td>0</td>\n",
       "    </tr>\n",
       "    <tr>\n",
       "      <th>301</th>\n",
       "      <td>57</td>\n",
       "      <td>1</td>\n",
       "      <td>0</td>\n",
       "      <td>130</td>\n",
       "      <td>131</td>\n",
       "      <td>0</td>\n",
       "      <td>1</td>\n",
       "      <td>115</td>\n",
       "      <td>1</td>\n",
       "      <td>1.2</td>\n",
       "      <td>1</td>\n",
       "      <td>1</td>\n",
       "      <td>3</td>\n",
       "      <td>0</td>\n",
       "    </tr>\n",
       "    <tr>\n",
       "      <th>302</th>\n",
       "      <td>57</td>\n",
       "      <td>0</td>\n",
       "      <td>1</td>\n",
       "      <td>130</td>\n",
       "      <td>236</td>\n",
       "      <td>0</td>\n",
       "      <td>0</td>\n",
       "      <td>174</td>\n",
       "      <td>0</td>\n",
       "      <td>0.0</td>\n",
       "      <td>1</td>\n",
       "      <td>1</td>\n",
       "      <td>2</td>\n",
       "      <td>0</td>\n",
       "    </tr>\n",
       "  </tbody>\n",
       "</table>\n",
       "<p>303 rows × 14 columns</p>\n",
       "</div>"
      ],
      "text/plain": [
       "     age  sex  cp  trestbps  chol  fbs  restecg  thalach  exang  oldpeak  \\\n",
       "0     63    1   3       145   233    1        0      150      0      2.3   \n",
       "1     37    1   2       130   250    0        1      187      0      3.5   \n",
       "2     41    0   1       130   204    0        0      172      0      1.4   \n",
       "3     56    1   1       120   236    0        1      178      0      0.8   \n",
       "4     57    0   0       120   354    0        1      163      1      0.6   \n",
       "..   ...  ...  ..       ...   ...  ...      ...      ...    ...      ...   \n",
       "298   57    0   0       140   241    0        1      123      1      0.2   \n",
       "299   45    1   3       110   264    0        1      132      0      1.2   \n",
       "300   68    1   0       144   193    1        1      141      0      3.4   \n",
       "301   57    1   0       130   131    0        1      115      1      1.2   \n",
       "302   57    0   1       130   236    0        0      174      0      0.0   \n",
       "\n",
       "     slope  ca  thal  target  \n",
       "0        0   0     1       1  \n",
       "1        0   0     2       1  \n",
       "2        2   0     2       1  \n",
       "3        2   0     2       1  \n",
       "4        2   0     2       1  \n",
       "..     ...  ..   ...     ...  \n",
       "298      1   0     3       0  \n",
       "299      1   0     3       0  \n",
       "300      1   2     3       0  \n",
       "301      1   1     3       0  \n",
       "302      1   1     2       0  \n",
       "\n",
       "[303 rows x 14 columns]"
      ]
     },
     "execution_count": 99,
     "metadata": {},
     "output_type": "execute_result"
    }
   ],
   "source": [
    "# load the data \n",
    "heart_df = pd.read_csv(\"../data/heart.csv\") \n",
    "heart_df"
   ]
  },
  {
   "cell_type": "code",
   "execution_count": 100,
   "id": "7318377b",
   "metadata": {},
   "outputs": [
    {
     "name": "stdout",
     "output_type": "stream",
     "text": [
      "<class 'pandas.core.frame.DataFrame'>\n",
      "RangeIndex: 303 entries, 0 to 302\n",
      "Data columns (total 14 columns):\n",
      " #   Column    Non-Null Count  Dtype  \n",
      "---  ------    --------------  -----  \n",
      " 0   age       303 non-null    int64  \n",
      " 1   sex       303 non-null    int64  \n",
      " 2   cp        303 non-null    int64  \n",
      " 3   trestbps  303 non-null    int64  \n",
      " 4   chol      303 non-null    int64  \n",
      " 5   fbs       303 non-null    int64  \n",
      " 6   restecg   303 non-null    int64  \n",
      " 7   thalach   303 non-null    int64  \n",
      " 8   exang     303 non-null    int64  \n",
      " 9   oldpeak   303 non-null    float64\n",
      " 10  slope     303 non-null    int64  \n",
      " 11  ca        303 non-null    int64  \n",
      " 12  thal      303 non-null    int64  \n",
      " 13  target    303 non-null    int64  \n",
      "dtypes: float64(1), int64(13)\n",
      "memory usage: 33.3 KB\n"
     ]
    }
   ],
   "source": [
    "heart_df.info()"
   ]
  },
  {
   "cell_type": "code",
   "execution_count": 101,
   "id": "515d3f93",
   "metadata": {},
   "outputs": [
    {
     "data": {
      "text/plain": [
       "age         0\n",
       "sex         0\n",
       "cp          0\n",
       "trestbps    0\n",
       "chol        0\n",
       "fbs         0\n",
       "restecg     0\n",
       "thalach     0\n",
       "exang       0\n",
       "oldpeak     0\n",
       "slope       0\n",
       "ca          0\n",
       "thal        0\n",
       "target      0\n",
       "dtype: int64"
      ]
     },
     "execution_count": 101,
     "metadata": {},
     "output_type": "execute_result"
    }
   ],
   "source": [
    "(heart_df.isnull().sum()).sort_values(ascending=False)"
   ]
  },
  {
   "cell_type": "code",
   "execution_count": 102,
   "id": "26a35944",
   "metadata": {},
   "outputs": [],
   "source": [
    "X = heart_df.drop(['target'] , axis=1) \n",
    "y = heart_df['target']"
   ]
  },
  {
   "cell_type": "code",
   "execution_count": 103,
   "id": "d9b08d3f",
   "metadata": {},
   "outputs": [],
   "source": [
    "from sklearn.model_selection import train_test_split\n",
    "X_train, X_test, y_train, y_test = train_test_split( X, y, test_size=0.2, random_state=42 ,stratify=y)"
   ]
  },
  {
   "cell_type": "code",
   "execution_count": 104,
   "id": "13e6637a",
   "metadata": {},
   "outputs": [],
   "source": [
    "num_cols = ['age', 'trestbps', 'chol', 'thalach', 'oldpeak']"
   ]
  },
  {
   "cell_type": "code",
   "execution_count": 105,
   "id": "36931cfd",
   "metadata": {},
   "outputs": [],
   "source": [
    "from sklearn.preprocessing import StandardScaler \n",
    "scaler = StandardScaler()"
   ]
  },
  {
   "cell_type": "code",
   "execution_count": 106,
   "id": "39fb4a44",
   "metadata": {},
   "outputs": [],
   "source": [
    "X_trained_scaled = X_train.copy() \n",
    "X_test_scaled = X_test.copy() \n",
    "\n",
    "X_trained_scaled[num_cols] = scaler.fit_transform(X_train[num_cols]) \n",
    "X_test_scaled[num_cols] = scaler.transform(X_test[num_cols]) \n",
    "\n"
   ]
  },
  {
   "cell_type": "markdown",
   "id": "ef7b91a2",
   "metadata": {},
   "source": [
    "1- Logistic Regrassion with Hyperparameter tuning and GridSearchCV "
   ]
  },
  {
   "cell_type": "code",
   "execution_count": 107,
   "id": "ffaf42fe",
   "metadata": {},
   "outputs": [],
   "source": [
    "from sklearn.linear_model import LogisticRegression \n",
    "from sklearn.model_selection import GridSearchCV , StratifiedKFold\n",
    "from sklearn.calibration import CalibratedClassifierCV \n",
    "from sklearn.metrics import classification_report , accuracy_score "
   ]
  },
  {
   "cell_type": "code",
   "execution_count": 108,
   "id": "e4b5cc9f",
   "metadata": {},
   "outputs": [
    {
     "name": "stdout",
     "output_type": "stream",
     "text": [
      "              precision    recall  f1-score   support\n",
      "\n",
      "           0       0.86      0.64      0.73        28\n",
      "           1       0.75      0.91      0.82        33\n",
      "\n",
      "    accuracy                           0.79        61\n",
      "   macro avg       0.80      0.78      0.78        61\n",
      "weighted avg       0.80      0.79      0.78        61\n",
      "\n",
      "0.79\n"
     ]
    }
   ],
   "source": [
    "# Cross validation strategy \n",
    "cv = StratifiedKFold(n_splits=5 ,shuffle=True , random_state=42) \n",
    "\n",
    "# logistic regresion with parameter \n",
    "param_grid = {\n",
    "    'penalty': ['l1', 'l2', 'elasticnet'] ,\n",
    "    'C' : np.logspace(-3 , 3 , 7) ,\n",
    "    'solver' : ['saga'] , \n",
    "    'l1_ratio' : [0 , 0.25 ,0.5 ,0.75 , 1]\n",
    "}\n",
    "\n",
    "lg = LogisticRegression(max_iter=1000)\n",
    "\n",
    "grid = GridSearchCV(estimator=lg , param_grid=param_grid , cv=cv , scoring=\"f1\" , n_jobs=-1 , error_score=\"raise\") \n",
    "grid.fit(X_trained_scaled , y_train) \n",
    "\n",
    "cal_lg = CalibratedClassifierCV(grid.best_estimator_ , cv=cv) \n",
    "cal_lg.fit(X_trained_scaled , y_train)\n",
    "\n",
    "y_predict = cal_lg.predict(X_test_scaled) \n",
    "print(classification_report(y_test , y_predict))\n",
    "print(f\"{accuracy_score(y_test , y_predict):.2f}\")\n"
   ]
  },
  {
   "cell_type": "code",
   "execution_count": 109,
   "id": "bda678a3",
   "metadata": {},
   "outputs": [
    {
     "data": {
      "image/png": "[encoded data removed]",
      "text/plain": [
       "<Figure size 640x480 with 1 Axes>"
      ]
     },
     "metadata": {},
     "output_type": "display_data"
    }
   ],
   "source": [
    "coef = grid.best_estimator_.coef_[0]\n",
    "features = X_trained_scaled.columns \n",
    "importance_df = pd.DataFrame({'Feature' : features , 'Coefficient' : coef}) \n",
    "importance_df = importance_df.sort_values(by='Coefficient' , key=abs , ascending=False)\n",
    "\n",
    "sns.barplot(data=importance_df , x='Coefficient' , y='Feature') \n",
    "plt.title(\"Logistic Regression Feature Importance\")\n",
    "plt.show()"
   ]
  },
  {
   "cell_type": "markdown",
   "id": "eceb7b13",
   "metadata": {},
   "source": [
    "2- Support Vector Machine (SVM)"
   ]
  },
  {
   "cell_type": "code",
   "execution_count": 110,
   "id": "fdb6e09a",
   "metadata": {},
   "outputs": [],
   "source": [
    "from sklearn.svm import SVC \n",
    "from sklearn.pipeline import Pipeline\n"
   ]
  },
  {
   "cell_type": "code",
   "execution_count": 111,
   "id": "f7d8b34e",
   "metadata": {},
   "outputs": [
    {
     "name": "stdout",
     "output_type": "stream",
     "text": [
      "Best SVM Params: {'svm__C': 0.1, 'svm__degree': 2, 'svm__gamma': 'scale', 'svm__kernel': 'linear'}\n",
      "              precision    recall  f1-score   support\n",
      "\n",
      "           0       0.90      0.64      0.75        28\n",
      "           1       0.76      0.94      0.84        33\n",
      "\n",
      "    accuracy                           0.80        61\n",
      "   macro avg       0.83      0.79      0.79        61\n",
      "weighted avg       0.82      0.80      0.80        61\n",
      "\n",
      "0.80\n"
     ]
    }
   ],
   "source": [
    "\n",
    "# Pipeline\n",
    "svc_pipeline = Pipeline([\n",
    "    ('scaler', StandardScaler()), \n",
    "    ('svm', SVC(probability=True, class_weight='balanced'))\n",
    "])\n",
    "\n",
    "# Parameter grid\n",
    "param_grid_svm = {\n",
    "    'svm__kernel': ['linear', 'rbf', 'poly'],\n",
    "    'svm__C': [0.1, 1, 10],\n",
    "    'svm__gamma': ['scale', 'auto'],\n",
    "    'svm__degree': [2, 3]\n",
    "}\n",
    "\n",
    "# Stratified K-Fold\n",
    "cv = StratifiedKFold(n_splits=5, shuffle=True, random_state=42)\n",
    "\n",
    "# Grid Search\n",
    "grid_svm = GridSearchCV(estimator=svc_pipeline, param_grid=param_grid_svm, cv=cv, scoring='f1', n_jobs=-1)\n",
    "grid_svm.fit(X_train, y_train)\n",
    "\n",
    "# Calibrate the best estimator\n",
    "cal_svm = CalibratedClassifierCV(estimator=grid_svm.best_estimator_, cv=cv)\n",
    "cal_svm.fit(X_train, y_train)  # 🔴 This line was missing\n",
    "\n",
    "# Predict\n",
    "y_predict_svm = cal_svm.predict(X_test)\n",
    "\n",
    "# Output\n",
    "print(\"Best SVM Params:\", grid_svm.best_params_)\n",
    "print(classification_report(y_test, y_predict_svm))\n",
    "print(f\"{accuracy_score(y_test , y_predict_svm):.2f}\")\n",
    "\n"
   ]
  },
  {
   "cell_type": "markdown",
   "id": "b0675ce8",
   "metadata": {},
   "source": [
    "3- Random Forest Classifier (RF)\n"
   ]
  },
  {
   "cell_type": "code",
   "execution_count": 112,
   "id": "936fc7c2",
   "metadata": {},
   "outputs": [],
   "source": [
    "from sklearn.ensemble import RandomForestClassifier "
   ]
  },
  {
   "cell_type": "code",
   "execution_count": 113,
   "id": "8f835cd0",
   "metadata": {},
   "outputs": [
    {
     "name": "stdout",
     "output_type": "stream",
     "text": [
      "Best RF Params: {'max_depth': 5, 'max_features': 'sqrt', 'min_samples_split': 2, 'n_estimators': 100}\n",
      "              precision    recall  f1-score   support\n",
      "\n",
      "           0       0.95      0.64      0.77        28\n",
      "           1       0.76      0.97      0.85        33\n",
      "\n",
      "    accuracy                           0.82        61\n",
      "   macro avg       0.85      0.81      0.81        61\n",
      "weighted avg       0.85      0.82      0.81        61\n",
      "\n"
     ]
    }
   ],
   "source": [
    "# Stratified K-Fold\n",
    "cv = StratifiedKFold(n_splits=5, shuffle=True, random_state=42)\n",
    "\n",
    "param_grid_rf = {\n",
    "    'n_estimators' : [100 ,200] , \n",
    "    'max_depth' : [None , 5 , 10] , \n",
    "    'min_samples_split' : [ 2 , 5] , \n",
    "    'max_features' : ['sqrt', 'log2'] \n",
    "}\n",
    "\n",
    "rf_model = RandomForestClassifier(class_weight='balanced' , random_state=42) \n",
    "\n",
    "grid_rf = GridSearchCV(estimator=rf_model , param_grid=param_grid_rf , scoring='f1' , n_jobs=-1) \n",
    "grid_rf.fit(X_train , y_train ) \n",
    "\n",
    "\n",
    "cal_rf = CalibratedClassifierCV(estimator=grid_rf.best_estimator_ , cv=cv)\n",
    "cal_rf.fit(X_train , y_train)\n",
    "\n",
    "y_predict_rf = cal_rf.predict(X_test) \n",
    "print(\"Best RF Params:\", grid_rf.best_params_)\n",
    "print(classification_report(y_test, y_predict_rf))"
   ]
  },
  {
   "cell_type": "code",
   "execution_count": 114,
   "id": "060aa6a1",
   "metadata": {},
   "outputs": [
    {
     "data": {
      "image/png": "[encoded data removed]",
      "text/plain": [
       "<Figure size 800x500 with 1 Axes>"
      ]
     },
     "metadata": {},
     "output_type": "display_data"
    }
   ],
   "source": [
    "feat_imp = pd.DataFrame({\n",
    "    'feature': X_train.columns,\n",
    "    'importance': cal_rf.estimator.feature_importances_\n",
    "}).sort_values(by='importance', ascending=False)\n",
    "\n",
    "plt.figure(figsize=(8, 5))\n",
    "sns.barplot(data=feat_imp.head(10), y='feature', x='importance')\n",
    "plt.title(\"Random Forest Feature Importance\")\n",
    "plt.show()"
   ]
  },
  {
   "cell_type": "markdown",
   "id": "8a99b74c",
   "metadata": {},
   "source": [
    "\n",
    "Evaluation of Traditional Machine learning models\n"
   ]
  },
  {
   "cell_type": "code",
   "execution_count": 115,
   "id": "d64d613d",
   "metadata": {},
   "outputs": [],
   "source": [
    "models = {\n",
    "    'Logistic Regression': cal_lg,\n",
    "    'SVM': cal_svm,\n",
    "    'Random Forest': cal_rf,\n",
    "}\n"
   ]
  },
  {
   "cell_type": "code",
   "execution_count": 95,
   "id": "c5f46c25",
   "metadata": {},
   "outputs": [],
   "source": [
    "from sklearn.metrics import accuracy_score, precision_score, recall_score, f1_score\n",
    "\n",
    "def evaluate_model(name, model, X_test, y_test):\n",
    "    y_pred = model.predict(X_test)\n",
    "    return {\n",
    "        'Model': name,\n",
    "        'Accuracy': accuracy_score(y_test, y_pred),\n",
    "        'Precision': precision_score(y_test, y_pred),\n",
    "        'Recall': recall_score(y_test, y_pred),\n",
    "        'F1-score': f1_score(y_test, y_pred),\n",
    "        'Best Params': getattr(model, 'best_params_', 'N/A') \n",
    "    }\n",
    "\n",
    "def evaluate_all_models(models: dict, X_test, y_test):\n",
    "    results = [evaluate_model(name, model, X_test, y_test) for name, model in models.items()]\n",
    "    df_results = pd.DataFrame(results).sort_values(by='F1-score', ascending=False)\n",
    "    \n",
    "    print(\"Model Comparison:\\n\")\n",
    "    print(df_results[['Model', 'Accuracy', 'Precision', 'Recall', 'F1-score']])\n",
    "    \n",
    "    best_model_row = df_results.iloc[0]\n",
    "    print(f\"\\nBest Model: {best_model_row['Model']}\")\n",
    "    \n",
    "    return df_results"
   ]
  },
  {
   "cell_type": "code",
   "execution_count": 96,
   "id": "6d453478",
   "metadata": {},
   "outputs": [
    {
     "name": "stdout",
     "output_type": "stream",
     "text": [
      "Model Comparison:\n",
      "\n",
      "                 Model  Accuracy  Precision    Recall  F1-score\n",
      "1        Random Forest  0.819672   0.761905  0.969697  0.853333\n",
      "0                  SVM  0.803279   0.756098  0.939394  0.837838\n",
      "2  Logistic Regression  0.491803   1.000000  0.060606  0.114286\n",
      "\n",
      "Best Model: Random Forest\n"
     ]
    }
   ],
   "source": [
    "df_results = evaluate_all_models(models, X_test, y_test)"
   ]
  },
  {
   "cell_type": "code",
   "execution_count": 116,
   "id": "a36be9c5",
   "metadata": {},
   "outputs": [
    {
     "data": {
      "text/plain": [
       "<Figure size 640x480 with 0 Axes>"
      ]
     },
     "metadata": {},
     "output_type": "display_data"
    },
    {
     "data": {
      "image/png": "[encoded data removed]",
      "text/plain": [
       "<Figure size 640x480 with 2 Axes>"
      ]
     },
     "metadata": {},
     "output_type": "display_data"
    },
    {
     "data": {
      "text/plain": [
       "<Figure size 640x480 with 0 Axes>"
      ]
     },
     "metadata": {},
     "output_type": "display_data"
    },
    {
     "data": {
      "image/png": "[encoded data removed]",
      "text/plain": [
       "<Figure size 640x480 with 2 Axes>"
      ]
     },
     "metadata": {},
     "output_type": "display_data"
    },
    {
     "data": {
      "text/plain": [
       "<Figure size 640x480 with 0 Axes>"
      ]
     },
     "metadata": {},
     "output_type": "display_data"
    },
    {
     "data": {
      "image/png": "[encoded data removed]",
      "text/plain": [
       "<Figure size 640x480 with 2 Axes>"
      ]
     },
     "metadata": {},
     "output_type": "display_data"
    }
   ],
   "source": [
    "from sklearn.metrics import ConfusionMatrixDisplay\n",
    "\n",
    "for name, model in models.items():\n",
    "    plt.figure()\n",
    "    ConfusionMatrixDisplay.from_estimator(model, X_test, y_test)\n",
    "    plt.title(f\"Confusion Matrix - {name}\")\n",
    "    plt.grid(False)\n",
    "    plt.show()"
   ]
  },
  {
   "cell_type": "code",
   "execution_count": 119,
   "id": "d742a718",
   "metadata": {},
   "outputs": [
    {
     "data": {
      "text/plain": [
       "['../models/final_model.pkl']"
      ]
     },
     "execution_count": 119,
     "metadata": {},
     "output_type": "execute_result"
    }
   ],
   "source": [
    "# Save the final model\n",
    "import joblib\n",
    "joblib.dump(cal_rf, '../models/final_model.pkl')"
   ]
  },
  {
   "cell_type": "code",
   "execution_count": 120,
   "id": "0c75107e",
   "metadata": {},
   "outputs": [],
   "source": [
    "# Save classification_report as Text \n",
    "\n",
    "report = classification_report(y_test, y_predict_rf)\n",
    "# Save the report to a text file\n",
    "with open('../results/evaluation_report.txt', 'w') as f:\n",
    "    f.write(\"Best Random Forest Params: \" + str(grid_rf.best_params_) + \"\\n\\n\")\n",
    "    f.write(report)"
   ]
  }
 ],
 "metadata": {
  "kernelspec": {
   "display_name": "base",
   "language": "python",
   "name": "python3"
  },
  "language_info": {
   "codemirror_mode": {
    "name": "ipython",
    "version": 3
   },
   "file_extension": ".py",
   "mimetype": "text/x-python",
   "name": "python",
   "nbconvert_exporter": "python",
   "pygments_lexer": "ipython3",
   "version": "3.12.7"
  }
 },
 "nbformat": 4,
 "nbformat_minor": 5
}
